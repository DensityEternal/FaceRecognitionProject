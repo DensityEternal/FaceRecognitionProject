{
 "cells": [
  {
   "cell_type": "code",
   "execution_count": 38,
   "id": "initial_id",
   "metadata": {
    "collapsed": true,
    "ExecuteTime": {
     "end_time": "2023-12-07T11:07:51.673628300Z",
     "start_time": "2023-12-07T11:07:48.062796700Z"
    }
   },
   "outputs": [
    {
     "name": "stdout",
     "output_type": "stream",
     "text": [
      "name：test\n",
      "(155, 155)\n"
     ]
    }
   ],
   "source": [
    "import face_recognition\n",
    "from PIL import Image\n",
    "import numpy as np\n",
    "class person:\n",
    "    def __init__(self,imagePath)->None:\n",
    "        name = imagePath.split(\"\\\\\")[-1].split(\".\")[0]\n",
    "        self.name=name\n",
    "        self.imagePath=imagePath\n",
    "    def detectFace(self):\n",
    "        ##Version 1.1 I want to do a face recognition project,and the first version is just a simple project\n",
    "        ##Use input image to detect face and use patten match to find the name of the person.\n",
    "        ##In the future,I will do other classification project.\n",
    "        ##The next version I will use the camera to recognite the person.\n",
    "        detectFace = face_recognition.load_image_file(self.imagePath)\n",
    "        face = face_recognition.face_locations(detectFace) ##return the position of the face \n",
    "        #input_encoding = face_recognition.face_encodings(self.detectFace)[0]\n",
    "        print(f\"name：{self.name}\")\n",
    "        return face,detectFace\n",
    "    def detectFaceShow(self):\n",
    "        face,detectFace = self.detectFace()\n",
    " \n",
    "        for face_location in face:\n",
    "            top, right, bottom, left = face_location\n",
    "            face_image = detectFace[top:bottom, left:right]\n",
    "            pil_image = Image.fromarray(face_image)\n",
    "            newWidth = pil_image.size[0]*5\n",
    "            newHeight = pil_image.size[1]*5\n",
    "            pil_image = pil_image.resize((newWidth,newHeight),Image.Resampling.NEAREST)\n",
    "            pil_image.show()\n",
    "path = r\"D:\\Developer environment\\FaceRecognition\\ImgTest\\test.jpg\"\n",
    "Stranger = person(path)\n",
    "Stranger.detectFaceShow()\n",
    "\n",
    "        "
   ]
  },
  {
   "cell_type": "code",
   "execution_count": null,
   "outputs": [],
   "source": [
    "faceNames = [\"彭于晏\",\"蔡徐坤\",\"杨洋\",\"赵丽颖\",\"刘亦菲\"]"
   ],
   "metadata": {
    "collapsed": false
   },
   "id": "c59315d7203c0e73"
  }
 ],
 "metadata": {
  "kernelspec": {
   "display_name": "Python 3",
   "language": "python",
   "name": "python3"
  },
  "language_info": {
   "codemirror_mode": {
    "name": "ipython",
    "version": 2
   },
   "file_extension": ".py",
   "mimetype": "text/x-python",
   "name": "python",
   "nbconvert_exporter": "python",
   "pygments_lexer": "ipython2",
   "version": "2.7.6"
  }
 },
 "nbformat": 4,
 "nbformat_minor": 5
}
