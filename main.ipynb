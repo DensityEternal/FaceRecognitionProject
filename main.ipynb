{
 "cells": [
  {
   "cell_type": "code",
   "execution_count": 54,
   "id": "initial_id",
   "metadata": {
    "collapsed": true,
    "ExecuteTime": {
     "end_time": "2023-12-10T15:05:19.665292400Z",
     "start_time": "2023-12-10T15:05:14.529194Z"
    }
   },
   "outputs": [
    {
     "name": "stdout",
     "output_type": "stream",
     "text": [
      "[False, True, True, True, True]\n",
      "[0.69915166 0.53463016 0.50745133 0.43770378 0.36715558]\n",
      "4\n",
      "The detect image name is 刘亦菲\n"
     ]
    }
   ],
   "source": [
    "import face_recognition\n",
    "from PIL import Image,ImageDraw\n",
    "import os\n",
    "import numpy as np\n",
    "\n",
    "class person:\n",
    "    def __init__(self, imagePath) -> None:\n",
    "        #name = imagePath.split(\"\\\\\")[-1].split(\".\")[0]\n",
    "        #self.name = name\n",
    "        self.imagePath = imagePath\n",
    "        self.face, self.detectFace, self.detectEncoding = self.detectFaceImage()\n",
    "        self.faceLocations,self.faceEncodings=self.detectName(self)\n",
    "    def detectFaceImage(self):\n",
    "        ##Version 1.1 I want to do a face recognition project,and the first version is just a simple project\n",
    "        ##Use input image to detect face and use patten match to find the name of the person.\n",
    "        ##In the future,I will do other classification project.\n",
    "        ##The next version I will use the camera to recognite the face.\n",
    "        \n",
    "        detectFace = face_recognition.load_image_file(self.imagePath)\n",
    "        face = face_recognition.face_locations(detectFace)  ##return the position of the face \n",
    "        detectEncoding = face_recognition.face_encodings(detectFace,face)\n",
    "        return face, detectFace, detectEncoding  ## return the faceImage(a special image data format of the library) \n",
    "        ## and the face code(maybe the principal component of the image )\n",
    "\n",
    "    def detectFaceShow(self):\n",
    "        ##During this part, you will see the face location of the detect image.\n",
    "        ## Image.fromarray(self.detectFace).show()          ## Maybe you want to see the original detectImage,\n",
    "        ## if you want,just note off this line of code\n",
    "        for face_location in self.face:\n",
    "            top, right, bottom, left = face_location ##The geometry locations of the detectedFace\n",
    "            face_image = self.detectFace[top:bottom, left:right] ##Maybe I draw a rectangle will be better\n",
    "            # pil_image = Image.fromarray(face_image)\n",
    "            # newWidth = pil_image.size[0] * 5\n",
    "            # newHeight = pil_image.size[1] * 5\n",
    "            # pil_image = pil_image.resize((newWidth, newHeight), Image.Resampling.NEAREST)\n",
    "            # pil_image.show()\n",
    "            Img = Image.fromarray(self.detectFace)\n",
    "            draw = ImageDraw.Draw(Img)\n",
    "            draw.rectangle((top, right, bottom, left),outline=\"red\")\n",
    "            Img.show()\n",
    "            \n",
    "\n",
    "            \n",
    "            \n",
    "    @staticmethod\n",
    "    def detectName(self):\n",
    "        face_locations = []\n",
    "        face_encodings = []\n",
    "        p=r\"D:\\\\Developer environment\\\\FaceRecognition\\\\ImgTest\\\\\"\n",
    "        for subdir in os.listdir(p):\n",
    "            subdir_path = os.path.join(p, subdir)\n",
    "            if os.path.isdir(subdir_path):\n",
    "                for file in os.listdir(subdir_path):\n",
    "                    file_path = os.path.join(subdir_path, file)\n",
    "                    if os.path.isfile(file_path):\n",
    "                        path=subdir_path+\"\\\\\"+file                           \n",
    "                        knownFace = face_recognition.load_image_file(path)\n",
    "                        face = face_recognition.face_locations(knownFace)\n",
    "                        face_locations.append(face)\n",
    "                        encodings = face_recognition.face_encodings(knownFace,face)[0]\n",
    "                        face_encodings.append(encodings)\n",
    "                        break\n",
    "        return face_locations,face_encodings\n",
    "    def match(self):\n",
    "        faceNames = [\"彭于晏\", \"蔡徐坤\", \"杨洋\", \"赵丽颖\", \"刘亦菲\"]\n",
    "        input_encodings = self.faceEncodings\n",
    "        unknown_encoding = self.detectEncoding[0]\n",
    "        \n",
    "        matches = face_recognition.compare_faces(input_encodings, unknown_encoding)\n",
    "        print(matches)\n",
    "        face_distances = face_recognition.face_distance(input_encodings, unknown_encoding)\n",
    "        print(face_distances)\n",
    "        best_match_index = np.argmin(face_distances)\n",
    "        print(best_match_index)\n",
    "        if matches[best_match_index]:\n",
    "            try:\n",
    "                name = faceNames[best_match_index]\n",
    "                print(f\"The detect image name is {name}\")\n",
    "            except:\n",
    "                print(\"No found the people!\")\n",
    "\n",
    "                \n",
    "\n",
    "path = r\"D:\\Developer environment\\FaceRecognition\\ImgTest\\S5\\5.jpg\"\n",
    "Stranger = person(path)\n",
    "Stranger.detectFaceShow()\n",
    "Stranger.match()\n",
    "\n"
   ]
  },
  {
   "cell_type": "code",
   "execution_count": null,
   "outputs": [],
   "source": [
    "\n",
    "\n"
   ],
   "metadata": {
    "collapsed": false
   },
   "id": "c59315d7203c0e73"
  }
 ],
 "metadata": {
  "kernelspec": {
   "display_name": "Python 3",
   "language": "python",
   "name": "python3"
  },
  "language_info": {
   "codemirror_mode": {
    "name": "ipython",
    "version": 2
   },
   "file_extension": ".py",
   "mimetype": "text/x-python",
   "name": "python",
   "nbconvert_exporter": "python",
   "pygments_lexer": "ipython2",
   "version": "2.7.6"
  }
 },
 "nbformat": 4,
 "nbformat_minor": 5
}
