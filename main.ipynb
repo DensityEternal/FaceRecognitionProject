{
 "cells": [
  {
   "cell_type": "code",
   "execution_count": null,
   "id": "initial_id",
   "metadata": {
    "collapsed": true
   },
   "outputs": [],
   "source": [
    "import face_recognition\n",
    "from PIL import Image\n",
    "class person:\n",
    "    def __init__(self,name,imagePath):\n",
    "        self.name=name\n",
    "        self.imagePath=imagePath\n",
    "    def detectFace(self):\n",
    "        ##Version 1.1 I want to do a face recognition project,and the first version is just a simple project\n",
    "        ##Use input image to detect face and use patten match to find the name of the person.\n",
    "        ##In the future,I will do other classification project.\n",
    "        ##The next version I will use the camera to recognite the person.\n",
    "        detectFace = face_recognition.load_image_file(self.imagePath).face_recognition.face_locations\n",
    "        \n",
    "        Image.fromarray(detectFace).show()\n",
    "        input_encoding = face_recognition.face_encodings(detectFace)[0]\n",
    "        "
   ]
  }
 ],
 "metadata": {
  "kernelspec": {
   "display_name": "Python 3",
   "language": "python",
   "name": "python3"
  },
  "language_info": {
   "codemirror_mode": {
    "name": "ipython",
    "version": 2
   },
   "file_extension": ".py",
   "mimetype": "text/x-python",
   "name": "python",
   "nbconvert_exporter": "python",
   "pygments_lexer": "ipython2",
   "version": "2.7.6"
  }
 },
 "nbformat": 4,
 "nbformat_minor": 5
}
