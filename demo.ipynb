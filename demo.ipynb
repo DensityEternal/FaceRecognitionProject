{
 "cells": [
  {
   "cell_type": "code",
   "execution_count": 1,
   "id": "162b308447c8535e",
   "metadata": {
    "collapsed": true,
    "ExecuteTime": {
     "end_time": "2023-12-07T10:11:38.325390400Z",
     "start_time": "2023-12-07T10:11:33.474220200Z"
    }
   },
   "outputs": [],
   "source": [
    "import face_recognition\n",
    "from PIL import Image\n",
    "input = face_recognition.load_image_file(\"D:\\Developer environment\\FaceRecognition\\ImgTest\\OIP-C.jpg\")\n",
    "output = face_recognition.face_locations(input)\n",
    "unknown_image = face_recognition.load_image_file(r\"D:\\Developer environment\\FaceRecognition\\ImgTest\\S1\\1.jpg\")\n"
   ]
  },
  {
   "cell_type": "code",
   "execution_count": 11,
   "outputs": [
    {
     "name": "stdout",
     "output_type": "stream",
     "text": [
      "[True]\n"
     ]
    }
   ],
   "source": [
    "input_encoding = face_recognition.face_encodings(input)[0]\n",
    "unknown_encoding = face_recognition.face_encodings(unknown_image)[0]\n",
    "results = face_recognition.compare_faces([input_encoding], unknown_encoding)\n",
    "\n",
    "print(results)"
   ],
   "metadata": {
    "collapsed": false,
    "ExecuteTime": {
     "end_time": "2023-12-07T08:57:55.072507600Z",
     "start_time": "2023-12-07T08:57:53.853057700Z"
    }
   },
   "id": "fa3bb6a3079e1bab"
  },
  {
   "cell_type": "code",
   "execution_count": 5,
   "outputs": [
    {
     "name": "stdout",
     "output_type": "stream",
     "text": [
      "A face is located at pixel location Top: 64, Left: 184, Bottom: 219, Right: 339\n"
     ]
    }
   ],
   "source": [
    "for face_location in output:\n",
    "\n",
    "    # Print the location of each face in this image\n",
    "    top, right, bottom, left = face_location\n",
    "    print(\"A face is located at pixel location Top: {}, Left: {}, Bottom: {}, Right: {}\".format(top, left, bottom, right))\n",
    "\n",
    "    # You can access the actual face itself like this:\n",
    "    face_image = input[top:bottom, left:right]\n",
    "    pil_image = Image.fromarray(face_image)\n",
    "    pil_image.show()"
   ],
   "metadata": {
    "collapsed": false,
    "ExecuteTime": {
     "end_time": "2023-12-07T08:54:10.907989400Z",
     "start_time": "2023-12-07T08:54:06.813770Z"
    }
   },
   "id": "initial_id"
  },
  {
   "cell_type": "code",
   "execution_count": null,
   "outputs": [],
   "source": [],
   "metadata": {
    "collapsed": false
   },
   "id": "4ee8a1e140cbbb6a"
  }
 ],
 "metadata": {
  "kernelspec": {
   "display_name": "Python 3",
   "language": "python",
   "name": "python3"
  },
  "language_info": {
   "codemirror_mode": {
    "name": "ipython",
    "version": 2
   },
   "file_extension": ".py",
   "mimetype": "text/x-python",
   "name": "python",
   "nbconvert_exporter": "python",
   "pygments_lexer": "ipython2",
   "version": "2.7.6"
  }
 },
 "nbformat": 4,
 "nbformat_minor": 5
}
