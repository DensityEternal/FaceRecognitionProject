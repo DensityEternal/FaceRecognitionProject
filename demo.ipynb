{
 "cells": [
  {
   "cell_type": "code",
   "execution_count": 6,
   "id": "162b308447c8535e",
   "metadata": {
    "collapsed": true,
    "ExecuteTime": {
     "end_time": "2023-12-10T13:30:02.506268700Z",
     "start_time": "2023-12-10T13:30:01.968270100Z"
    }
   },
   "outputs": [
    {
     "ename": "FileNotFoundError",
     "evalue": "[Errno 2] No such file or directory: 'D:\\\\Developer environment\\\\FaceRecognition\\\\ImgTest\\\\test.jpg'",
     "output_type": "error",
     "traceback": [
      "\u001B[1;31m---------------------------------------------------------------------------\u001B[0m",
      "\u001B[1;31mFileNotFoundError\u001B[0m                         Traceback (most recent call last)",
      "Cell \u001B[1;32mIn[6], line 3\u001B[0m\n\u001B[0;32m      1\u001B[0m \u001B[38;5;28;01mimport\u001B[39;00m \u001B[38;5;21;01mface_recognition\u001B[39;00m\n\u001B[0;32m      2\u001B[0m \u001B[38;5;28;01mfrom\u001B[39;00m \u001B[38;5;21;01mPIL\u001B[39;00m \u001B[38;5;28;01mimport\u001B[39;00m Image\n\u001B[1;32m----> 3\u001B[0m \u001B[38;5;28minput\u001B[39m \u001B[38;5;241m=\u001B[39m face_recognition\u001B[38;5;241m.\u001B[39mload_image_file(\u001B[38;5;124mr\u001B[39m\u001B[38;5;124m\"\u001B[39m\u001B[38;5;124mD:\u001B[39m\u001B[38;5;124m\\\u001B[39m\u001B[38;5;124mDeveloper environment\u001B[39m\u001B[38;5;124m\\\u001B[39m\u001B[38;5;124mFaceRecognition\u001B[39m\u001B[38;5;124m\\\u001B[39m\u001B[38;5;124mImgTest\u001B[39m\u001B[38;5;124m\\\u001B[39m\u001B[38;5;124mtest.jpg\u001B[39m\u001B[38;5;124m\"\u001B[39m)\n\u001B[0;32m      4\u001B[0m output \u001B[38;5;241m=\u001B[39m face_recognition\u001B[38;5;241m.\u001B[39mface_locations(\u001B[38;5;28minput\u001B[39m)\n\u001B[0;32m      5\u001B[0m unknown_image \u001B[38;5;241m=\u001B[39m face_recognition\u001B[38;5;241m.\u001B[39mload_image_file(\u001B[38;5;124mr\u001B[39m\u001B[38;5;124m\"\u001B[39m\u001B[38;5;124mD:\u001B[39m\u001B[38;5;124m\\\u001B[39m\u001B[38;5;124mDeveloper environment\u001B[39m\u001B[38;5;124m\\\u001B[39m\u001B[38;5;124mFaceRecognition\u001B[39m\u001B[38;5;124m\\\u001B[39m\u001B[38;5;124mImgTest\u001B[39m\u001B[38;5;124m\\\u001B[39m\u001B[38;5;124mS1\u001B[39m\u001B[38;5;124m\\\u001B[39m\u001B[38;5;124m1.jpg\u001B[39m\u001B[38;5;124m\"\u001B[39m)\n",
      "File \u001B[1;32mD:\\DeveloperEnvironment\\Anaconda\\Lib\\site-packages\\face_recognition\\api.py:86\u001B[0m, in \u001B[0;36mload_image_file\u001B[1;34m(file, mode)\u001B[0m\n\u001B[0;32m     78\u001B[0m \u001B[38;5;28;01mdef\u001B[39;00m \u001B[38;5;21mload_image_file\u001B[39m(file, mode\u001B[38;5;241m=\u001B[39m\u001B[38;5;124m'\u001B[39m\u001B[38;5;124mRGB\u001B[39m\u001B[38;5;124m'\u001B[39m):\n\u001B[0;32m     79\u001B[0m \u001B[38;5;250m    \u001B[39m\u001B[38;5;124;03m\"\"\"\u001B[39;00m\n\u001B[0;32m     80\u001B[0m \u001B[38;5;124;03m    Loads an image file (.jpg, .png, etc) into a numpy array\u001B[39;00m\n\u001B[0;32m     81\u001B[0m \n\u001B[1;32m   (...)\u001B[0m\n\u001B[0;32m     84\u001B[0m \u001B[38;5;124;03m    :return: image contents as numpy array\u001B[39;00m\n\u001B[0;32m     85\u001B[0m \u001B[38;5;124;03m    \"\"\"\u001B[39;00m\n\u001B[1;32m---> 86\u001B[0m     im \u001B[38;5;241m=\u001B[39m PIL\u001B[38;5;241m.\u001B[39mImage\u001B[38;5;241m.\u001B[39mopen(file)\n\u001B[0;32m     87\u001B[0m     \u001B[38;5;28;01mif\u001B[39;00m mode:\n\u001B[0;32m     88\u001B[0m         im \u001B[38;5;241m=\u001B[39m im\u001B[38;5;241m.\u001B[39mconvert(mode)\n",
      "File \u001B[1;32mD:\\DeveloperEnvironment\\Anaconda\\Lib\\site-packages\\PIL\\Image.py:3227\u001B[0m, in \u001B[0;36mopen\u001B[1;34m(fp, mode, formats)\u001B[0m\n\u001B[0;32m   3224\u001B[0m     filename \u001B[38;5;241m=\u001B[39m fp\n\u001B[0;32m   3226\u001B[0m \u001B[38;5;28;01mif\u001B[39;00m filename:\n\u001B[1;32m-> 3227\u001B[0m     fp \u001B[38;5;241m=\u001B[39m builtins\u001B[38;5;241m.\u001B[39mopen(filename, \u001B[38;5;124m\"\u001B[39m\u001B[38;5;124mrb\u001B[39m\u001B[38;5;124m\"\u001B[39m)\n\u001B[0;32m   3228\u001B[0m     exclusive_fp \u001B[38;5;241m=\u001B[39m \u001B[38;5;28;01mTrue\u001B[39;00m\n\u001B[0;32m   3230\u001B[0m \u001B[38;5;28;01mtry\u001B[39;00m:\n",
      "\u001B[1;31mFileNotFoundError\u001B[0m: [Errno 2] No such file or directory: 'D:\\\\Developer environment\\\\FaceRecognition\\\\ImgTest\\\\test.jpg'"
     ]
    }
   ],
   "source": [
    "import face_recognition\n",
    "from PIL import Image\n",
    "input = face_recognition.load_image_file(r\"D:\\Developer environment\\FaceRecognition\\ImgTest\\test.jpg\")\n",
    "output = face_recognition.face_locations(input)\n",
    "unknown_image = face_recognition.load_image_file(r\"D:\\Developer environment\\FaceRecognition\\ImgTest\\S1\\1.jpg\")\n",
    "Image.fromarray(input).show()\n",
    "encodings=face_recognition.face_encodings(input)\n",
    "print(encodings)"
   ]
  },
  {
   "cell_type": "code",
   "execution_count": 5,
   "outputs": [
    {
     "ename": "AxisError",
     "evalue": "axis 1 is out of bounds for array of dimension 1",
     "output_type": "error",
     "traceback": [
      "\u001B[1;31m---------------------------------------------------------------------------\u001B[0m",
      "\u001B[1;31mAxisError\u001B[0m                                 Traceback (most recent call last)",
      "Cell \u001B[1;32mIn[5], line 3\u001B[0m\n\u001B[0;32m      1\u001B[0m input_encoding \u001B[38;5;241m=\u001B[39m face_recognition\u001B[38;5;241m.\u001B[39mface_encodings(\u001B[38;5;28minput\u001B[39m)[\u001B[38;5;241m0\u001B[39m]\n\u001B[0;32m      2\u001B[0m unknown_encoding \u001B[38;5;241m=\u001B[39m face_recognition\u001B[38;5;241m.\u001B[39mface_encodings(unknown_image)[\u001B[38;5;241m0\u001B[39m]\n\u001B[1;32m----> 3\u001B[0m results \u001B[38;5;241m=\u001B[39m face_recognition\u001B[38;5;241m.\u001B[39mcompare_faces(input_encoding, unknown_encoding)\n\u001B[0;32m      5\u001B[0m \u001B[38;5;28mprint\u001B[39m(results)\n",
      "File \u001B[1;32mD:\\DeveloperEnvironment\\Anaconda\\Lib\\site-packages\\face_recognition\\api.py:226\u001B[0m, in \u001B[0;36mcompare_faces\u001B[1;34m(known_face_encodings, face_encoding_to_check, tolerance)\u001B[0m\n\u001B[0;32m    217\u001B[0m \u001B[38;5;28;01mdef\u001B[39;00m \u001B[38;5;21mcompare_faces\u001B[39m(known_face_encodings, face_encoding_to_check, tolerance\u001B[38;5;241m=\u001B[39m\u001B[38;5;241m0.6\u001B[39m):\n\u001B[0;32m    218\u001B[0m \u001B[38;5;250m    \u001B[39m\u001B[38;5;124;03m\"\"\"\u001B[39;00m\n\u001B[0;32m    219\u001B[0m \u001B[38;5;124;03m    Compare a list of face encodings against a candidate encoding to see if they match.\u001B[39;00m\n\u001B[0;32m    220\u001B[0m \n\u001B[1;32m   (...)\u001B[0m\n\u001B[0;32m    224\u001B[0m \u001B[38;5;124;03m    :return: A list of True/False values indicating which known_face_encodings match the face encoding to check\u001B[39;00m\n\u001B[0;32m    225\u001B[0m \u001B[38;5;124;03m    \"\"\"\u001B[39;00m\n\u001B[1;32m--> 226\u001B[0m     \u001B[38;5;28;01mreturn\u001B[39;00m \u001B[38;5;28mlist\u001B[39m(face_distance(known_face_encodings, face_encoding_to_check) \u001B[38;5;241m<\u001B[39m\u001B[38;5;241m=\u001B[39m tolerance)\n",
      "File \u001B[1;32mD:\\DeveloperEnvironment\\Anaconda\\Lib\\site-packages\\face_recognition\\api.py:75\u001B[0m, in \u001B[0;36mface_distance\u001B[1;34m(face_encodings, face_to_compare)\u001B[0m\n\u001B[0;32m     72\u001B[0m \u001B[38;5;28;01mif\u001B[39;00m \u001B[38;5;28mlen\u001B[39m(face_encodings) \u001B[38;5;241m==\u001B[39m \u001B[38;5;241m0\u001B[39m:\n\u001B[0;32m     73\u001B[0m     \u001B[38;5;28;01mreturn\u001B[39;00m np\u001B[38;5;241m.\u001B[39mempty((\u001B[38;5;241m0\u001B[39m))\n\u001B[1;32m---> 75\u001B[0m \u001B[38;5;28;01mreturn\u001B[39;00m np\u001B[38;5;241m.\u001B[39mlinalg\u001B[38;5;241m.\u001B[39mnorm(face_encodings \u001B[38;5;241m-\u001B[39m face_to_compare, axis\u001B[38;5;241m=\u001B[39m\u001B[38;5;241m1\u001B[39m)\n",
      "File \u001B[1;32m<__array_function__ internals>:200\u001B[0m, in \u001B[0;36mnorm\u001B[1;34m(*args, **kwargs)\u001B[0m\n",
      "File \u001B[1;32mD:\\DeveloperEnvironment\\Anaconda\\Lib\\site-packages\\numpy\\linalg\\linalg.py:2542\u001B[0m, in \u001B[0;36mnorm\u001B[1;34m(x, ord, axis, keepdims)\u001B[0m\n\u001B[0;32m   2539\u001B[0m \u001B[38;5;28;01melif\u001B[39;00m \u001B[38;5;28mord\u001B[39m \u001B[38;5;129;01mis\u001B[39;00m \u001B[38;5;28;01mNone\u001B[39;00m \u001B[38;5;129;01mor\u001B[39;00m \u001B[38;5;28mord\u001B[39m \u001B[38;5;241m==\u001B[39m \u001B[38;5;241m2\u001B[39m:\n\u001B[0;32m   2540\u001B[0m     \u001B[38;5;66;03m# special case for speedup\u001B[39;00m\n\u001B[0;32m   2541\u001B[0m     s \u001B[38;5;241m=\u001B[39m (x\u001B[38;5;241m.\u001B[39mconj() \u001B[38;5;241m*\u001B[39m x)\u001B[38;5;241m.\u001B[39mreal\n\u001B[1;32m-> 2542\u001B[0m     \u001B[38;5;28;01mreturn\u001B[39;00m sqrt(add\u001B[38;5;241m.\u001B[39mreduce(s, axis\u001B[38;5;241m=\u001B[39maxis, keepdims\u001B[38;5;241m=\u001B[39mkeepdims))\n\u001B[0;32m   2543\u001B[0m \u001B[38;5;66;03m# None of the str-type keywords for ord ('fro', 'nuc')\u001B[39;00m\n\u001B[0;32m   2544\u001B[0m \u001B[38;5;66;03m# are valid for vectors\u001B[39;00m\n\u001B[0;32m   2545\u001B[0m \u001B[38;5;28;01melif\u001B[39;00m \u001B[38;5;28misinstance\u001B[39m(\u001B[38;5;28mord\u001B[39m, \u001B[38;5;28mstr\u001B[39m):\n",
      "\u001B[1;31mAxisError\u001B[0m: axis 1 is out of bounds for array of dimension 1"
     ]
    }
   ],
   "source": [
    "input_encoding = face_recognition.face_encodings(input)[0]\n",
    "unknown_encoding = face_recognition.face_encodings(unknown_image)[0]\n",
    "results = face_recognition.compare_faces(input_encoding, unknown_encoding)\n",
    "\n",
    "print(results)"
   ],
   "metadata": {
    "collapsed": false,
    "ExecuteTime": {
     "end_time": "2023-12-10T13:30:00.458796300Z",
     "start_time": "2023-12-10T13:29:59.616762200Z"
    }
   },
   "id": "fa3bb6a3079e1bab"
  },
  {
   "cell_type": "code",
   "execution_count": 5,
   "outputs": [
    {
     "name": "stdout",
     "output_type": "stream",
     "text": [
      "A face is located at pixel location Top: 64, Left: 184, Bottom: 219, Right: 339\n"
     ]
    }
   ],
   "source": [
    "for face_location in output:\n",
    "\n",
    "    # Print the location of each face in this image\n",
    "    top, right, bottom, left = face_location\n",
    "    print(\"A face is located at pixel location Top: {}, Left: {}, Bottom: {}, Right: {}\".format(top, left, bottom, right))\n",
    "\n",
    "    # You can access the actual face itself like this:\n",
    "    face_image = input[top:bottom, left:right]\n",
    "    pil_image = Image.fromarray(face_image)\n",
    "    pil_image.show()"
   ],
   "metadata": {
    "collapsed": false,
    "ExecuteTime": {
     "end_time": "2023-12-07T08:54:10.907989400Z",
     "start_time": "2023-12-07T08:54:06.813770Z"
    }
   },
   "id": "initial_id"
  },
  {
   "cell_type": "code",
   "execution_count": null,
   "outputs": [],
   "source": [],
   "metadata": {
    "collapsed": false
   },
   "id": "4ee8a1e140cbbb6a"
  }
 ],
 "metadata": {
  "kernelspec": {
   "display_name": "Python 3",
   "language": "python",
   "name": "python3"
  },
  "language_info": {
   "codemirror_mode": {
    "name": "ipython",
    "version": 2
   },
   "file_extension": ".py",
   "mimetype": "text/x-python",
   "name": "python",
   "nbconvert_exporter": "python",
   "pygments_lexer": "ipython2",
   "version": "2.7.6"
  }
 },
 "nbformat": 4,
 "nbformat_minor": 5
}
